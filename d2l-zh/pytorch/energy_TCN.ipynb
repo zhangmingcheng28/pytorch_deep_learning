{
 "cells": [
  {
   "cell_type": "code",
   "execution_count": 1,
   "id": "074d58ee",
   "metadata": {},
   "outputs": [],
   "source": [
    "import os\n",
    "import numpy as np\n",
    "import pandas as pd\n",
    "import matplotlib.pyplot as plt\n",
    "from sklearn.model_selection import train_test_split\n",
    "from sklearn.metrics import mean_squared_error\n",
    "import cv2\n",
    "import torch.nn as nn\n",
    "import torch.nn.functional as F\n",
    "import torch\n",
    "import torchvision \n",
    "import torchvision.transforms as transforms\n",
    "import matplotlib.pyplot as plt\n",
    "from torch.utils.data import Dataset\n",
    "import math\n",
    "device = torch.device('cuda:0' if torch.cuda.is_available() else 'cpu')"
   ]
  },
  {
   "cell_type": "code",
   "execution_count": null,
   "id": "2438f4f0",
   "metadata": {},
   "outputs": [],
   "source": [
    "class FeatureDataset(Dataset):\n",
    "    def __init__(self, file_name):\n",
    "        # read csv file and load row data into input and output\n",
    "        raw_data = pd.read_csv(file_name)\n",
    "        inputX = raw_data.iloc[0:len(raw_data), 2:15].values\n",
    "        outputY = raw_data.iloc[0:len(raw_data), 15].values\n",
    "        \n",
    "        #convert to torch tensors\n",
    "        self.data_X = torch.tensor(inputX,dtype=torch.float32,device=device)\n",
    "        self.data_Y = torch.tensor(outputY,device=device)\n",
    "    \n",
    "    def __len__(self):\n",
    "        return len(self.data_Y)\n",
    "    \n",
    "    def __getitem__(self,idx):\n",
    "        return self.data_X[idx], self.data_Y[idx]\n",
    "    \n",
    "dataSet = FeatureDataset(\"D:\\flights.csv\")\n",
    "\n",
    "lenTrainingPercen = 75\n",
    "lenTestPercen = 25\n",
    "numTraining = math.ceil((len(dataSet)/100)*lenTrainingPercen)\n",
    "numTest = len(dataSet)-numTraining\n",
    "print(numTraining)\n",
    "print(numTest)\n",
    "train, val = torch.utils.data.random_split(dataSet, [numTraining, numTest])  # spilt the data to training set as well as test set\n",
    "len(train.indices)"
   ]
  }
 ],
 "metadata": {
  "kernelspec": {
   "display_name": "Python 3 (ipykernel)",
   "language": "python",
   "name": "python3"
  },
  "language_info": {
   "codemirror_mode": {
    "name": "ipython",
    "version": 3
   },
   "file_extension": ".py",
   "mimetype": "text/x-python",
   "name": "python",
   "nbconvert_exporter": "python",
   "pygments_lexer": "ipython3",
   "version": "3.8.12"
  }
 },
 "nbformat": 4,
 "nbformat_minor": 5
}
