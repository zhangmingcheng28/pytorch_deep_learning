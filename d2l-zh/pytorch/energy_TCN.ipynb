{
 "cells": [
  {
   "cell_type": "code",
   "execution_count": 3,
   "id": "349c211f",
   "metadata": {},
   "outputs": [],
   "source": [
    "import os\n",
    "import numpy as np\n",
    "import pandas as pd\n",
    "import matplotlib.pyplot as plt\n",
    "from sklearn.model_selection import train_test_split\n",
    "from sklearn.metrics import mean_squared_error\n",
    "import cv2\n",
    "import torch.nn as nn\n",
    "import torch.nn.functional as F\n",
    "import torch\n",
    "import torchvision \n",
    "import torchvision.transforms as transforms\n",
    "import matplotlib.pyplot as plt\n",
    "from torch.utils.data import Dataset\n",
    "import math\n",
    "device = torch.device('cuda:0' if torch.cuda.is_available() else 'cpu')"
   ]
  },
  {
   "cell_type": "code",
   "execution_count": 66,
   "id": "cbf9e891",
   "metadata": {},
   "outputs": [
    {
     "name": "stderr",
     "output_type": "stream",
     "text": [
      "C:\\Users\\Administrator\\AppData\\Local\\Temp\\ipykernel_4056\\2016469052.py:15: DtypeWarning: Columns (24) have mixed types. Specify dtype option on import or set low_memory=False.\n",
      "  raw_data = pd.read_csv(\"D:/flights.csv\")\n"
     ]
    },
    {
     "data": {
      "text/html": [
       "<div>\n",
       "<style scoped>\n",
       "    .dataframe tbody tr th:only-of-type {\n",
       "        vertical-align: middle;\n",
       "    }\n",
       "\n",
       "    .dataframe tbody tr th {\n",
       "        vertical-align: top;\n",
       "    }\n",
       "\n",
       "    .dataframe thead th {\n",
       "        text-align: right;\n",
       "    }\n",
       "</style>\n",
       "<table border=\"1\" class=\"dataframe\">\n",
       "  <thead>\n",
       "    <tr style=\"text-align: right;\">\n",
       "      <th></th>\n",
       "      <th>power</th>\n",
       "    </tr>\n",
       "  </thead>\n",
       "  <tbody>\n",
       "    <tr>\n",
       "      <th>0</th>\n",
       "      <td>2.118702</td>\n",
       "    </tr>\n",
       "    <tr>\n",
       "      <th>1</th>\n",
       "      <td>2.311789</td>\n",
       "    </tr>\n",
       "    <tr>\n",
       "      <th>2</th>\n",
       "      <td>2.311669</td>\n",
       "    </tr>\n",
       "    <tr>\n",
       "      <th>3</th>\n",
       "      <td>2.311550</td>\n",
       "    </tr>\n",
       "    <tr>\n",
       "      <th>4</th>\n",
       "      <td>1.925196</td>\n",
       "    </tr>\n",
       "    <tr>\n",
       "      <th>...</th>\n",
       "      <td>...</td>\n",
       "    </tr>\n",
       "    <tr>\n",
       "      <th>254846</th>\n",
       "      <td>2.353136</td>\n",
       "    </tr>\n",
       "    <tr>\n",
       "      <th>254847</th>\n",
       "      <td>2.351842</td>\n",
       "    </tr>\n",
       "    <tr>\n",
       "      <th>254848</th>\n",
       "      <td>1.266237</td>\n",
       "    </tr>\n",
       "    <tr>\n",
       "      <th>254849</th>\n",
       "      <td>2.353783</td>\n",
       "    </tr>\n",
       "    <tr>\n",
       "      <th>254850</th>\n",
       "      <td>2.172484</td>\n",
       "    </tr>\n",
       "  </tbody>\n",
       "</table>\n",
       "<p>153191 rows × 1 columns</p>\n",
       "</div>"
      ],
      "text/plain": [
       "           power\n",
       "0       2.118702\n",
       "1       2.311789\n",
       "2       2.311669\n",
       "3       2.311550\n",
       "4       1.925196\n",
       "...          ...\n",
       "254846  2.353136\n",
       "254847  2.351842\n",
       "254848  1.266237\n",
       "254849  2.353783\n",
       "254850  2.172484\n",
       "\n",
       "[153191 rows x 1 columns]"
      ]
     },
     "execution_count": 66,
     "metadata": {},
     "output_type": "execute_result"
    }
   ],
   "source": [
    "def selectX(dataFrame):\n",
    "    tar_col = ['flight','time','wind_angle','position_x','position_y','position_z',\n",
    "               'orientation_x','orientation_y','orientation_z','orientation_w','velocity_x','velocity_y','velocity_z',\n",
    "              'angular_x','angular_y','angular_z','linear_acceleration_x','linear_acceleration_y','linear_acceleration_z',\n",
    "              'speed','payload','altitude']\n",
    "    df1 = pd.DataFrame(dataFrame, columns=tar_col)\n",
    "    return df1\n",
    "\n",
    "def selectY(dataFrame):\n",
    "    tar_col = ['power']\n",
    "    df1 = pd.DataFrame(dataFrame, columns=tar_col)\n",
    "    return df1\n",
    "\n",
    "\n",
    "raw_data = pd.read_csv(\"D:/flights.csv\")\n",
    "flightNum = raw_data['flight']\n",
    "flightNum_noDuplicate = flightNum.drop_duplicates()  # remove duplicates\n",
    "flightNumArr = flightNum_noDuplicate.to_numpy()\n",
    "np.random.seed(0)  # ensure same result after random, for debuging\n",
    "split1 = int(0.6 * len(flightNumArr))  # 60%\n",
    "split2 = int(0.8 * len(flightNumArr))  # 80%\n",
    "np.random.shuffle(flightNumArr)\n",
    "p1 = flightNumArr[:split1]  # 0-60% \n",
    "p2 = flightNumArr[split1:split2]  # 60-80%\n",
    "p3 = flightNumArr[split2:]  # 80-100%\n",
    "dataFrame_p1 = raw_data[raw_data['flight'].isin(p1)]\n",
    "dataFrame_p2 = raw_data[raw_data['flight'].isin(p2)]\n",
    "dataFrame_p3 = raw_data[raw_data['flight'].isin(p3)]\n",
    "\n",
    "trainData_X = selectX(dataFrame_p1)\n",
    "trainData_Y = selectY(dataFrame_p1)\n",
    "\n",
    "validData_X = selectX(dataFrame_p2)\n",
    "validData_Y = selectY(dataFrame_p2)\n",
    "\n",
    "testData_X = selectX(dataFrame_p3)\n",
    "testData_Y = selectY(dataFrame_p3)\n"
   ]
  },
  {
   "cell_type": "code",
   "execution_count": 24,
   "id": "87263f72",
   "metadata": {},
   "outputs": [
    {
     "data": {
      "text/plain": [
       "10"
      ]
     },
     "execution_count": 24,
     "metadata": {},
     "output_type": "execute_result"
    }
   ],
   "source": []
  },
  {
   "cell_type": "code",
   "execution_count": null,
   "id": "e63ab91f",
   "metadata": {},
   "outputs": [],
   "source": []
  }
 ],
 "metadata": {
  "kernelspec": {
   "display_name": "Python 3 (ipykernel)",
   "language": "python",
   "name": "python3"
  },
  "language_info": {
   "codemirror_mode": {
    "name": "ipython",
    "version": 3
   },
   "file_extension": ".py",
   "mimetype": "text/x-python",
   "name": "python",
   "nbconvert_exporter": "python",
   "pygments_lexer": "ipython3",
   "version": "3.8.12"
  }
 },
 "nbformat": 4,
 "nbformat_minor": 5
}
